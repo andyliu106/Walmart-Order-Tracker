{
 "cells": [
  {
   "cell_type": "code",
   "execution_count": 2,
   "metadata": {},
   "outputs": [],
   "source": [
    "import os.path\n",
    "\n",
    "from google.auth.transport.requests import Request\n",
    "from google.oauth2.credentials import Credentials\n",
    "from google_auth_oauthlib.flow import InstalledAppFlow\n",
    "from googleapiclient.discovery import build\n",
    "from googleapiclient.errors import HttpError"
   ]
  },
  {
   "cell_type": "markdown",
   "metadata": {},
   "source": [
    "# Scope\n",
    "\n",
    "## Core Features\n",
    "\n",
    "### A user should be able to add or remove their imap login(s)\n",
    "### A user should be able to pull their orders and tally up how many they got in total.\n",
    "### A user should be able to know how many orders are going to where and estimated delivery date for each order.\n",
    "### A user should be able to see which orders got cancelled with full order details and account associated.\n",
    "### A user should be able to track total spend.\n",
    "### A user should be able to track total profit."
   ]
  },
  {
   "cell_type": "code",
   "execution_count": 5,
   "metadata": {},
   "outputs": [],
   "source": [
    "import os\n",
    "import discord\n",
    "import imaplib\n",
    "from typing import Optional"
   ]
  },
  {
   "cell_type": "code",
   "execution_count": 6,
   "metadata": {},
   "outputs": [],
   "source": [
    "class TargetOrder:\n",
    "    order_id = str\n",
    "    order_status = Optional[str]\n",
    "    tracking_number = Optional[str]\n",
    "    address = str"
   ]
  },
  {
   "cell_type": "code",
   "execution_count": null,
   "metadata": {},
   "outputs": [],
   "source": [
    "\n",
    "# Holds a user's possible addresses\n",
    "address = []\n",
    "\n",
    "# Holds a user possible imap connections since a user can have multiple\n",
    "imap_connections = []\n",
    "\n"
   ]
  },
  {
   "cell_type": "code",
   "execution_count": null,
   "metadata": {},
   "outputs": [],
   "source": [
    "class TargetOrderTracker:\n",
    "    def __init__(self, email: str, password: str):\n",
    "        self.email = email\n",
    "        self.password = password\n",
    "    \n",
    "    def connect(self):\n",
    "        try:\n",
    "            self.mail = imaplib.IMAP4_SSL('imap.gmail.com')\n",
    "            self.mail.login(self.email, self.password)\n",
    "            self.mail.select('inbox')\n",
    "        except imaplib.IMAP4.error as e:\n",
    "            print(f\"Failed to connect: {e}\")\n",
    "            raise\n",
    "\n",
    "    def fetch_orders(self):\n",
    "        # Target orders and updates are sent by orders@oe.target.com and these specific subjects regard updates on the orders.\n",
    "        search_criteria = [\n",
    "            'FROM \"orders@oe.target.com\"',\n",
    "            'SUBJECT \"Thanks for shopping with us!\"',\n",
    "            'SUBJECT \"Items have arrived from order\"',\n",
    "            'SUBJECT \"Sorry, we had to cancel order\"'\n",
    "        ]\n",
    "\n",
    "        \n",
    "        pass\n",
    "\n",
    "    def track_order(self, order_id: str) -> TargetOrder:\n",
    "        # Logic to track a specific order\n",
    "        pass\n",
    "\n",
    "    def close_connection(self):\n",
    "        self.mail.logout()"
   ]
  }
 ],
 "metadata": {
  "kernelspec": {
   "display_name": "Python 3",
   "language": "python",
   "name": "python3"
  },
  "language_info": {
   "codemirror_mode": {
    "name": "ipython",
    "version": 3
   },
   "file_extension": ".py",
   "mimetype": "text/x-python",
   "name": "python",
   "nbconvert_exporter": "python",
   "pygments_lexer": "ipython3",
   "version": "3.11.9"
  }
 },
 "nbformat": 4,
 "nbformat_minor": 2
}
