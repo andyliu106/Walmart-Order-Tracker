{
 "cells": [
  {
   "cell_type": "code",
   "execution_count": 1,
   "metadata": {},
   "outputs": [
    {
     "name": "stdout",
     "output_type": "stream",
     "text": [
      "Collecting numpy\n",
      "  Downloading numpy-2.3.2-cp311-cp311-win_amd64.whl.metadata (60 kB)\n",
      "     ---------------------------------------- 0.0/60.9 kB ? eta -:--:--\n",
      "     ------ --------------------------------- 10.2/60.9 kB ? eta -:--:--\n",
      "     ------------------- ------------------ 30.7/60.9 kB 445.2 kB/s eta 0:00:01\n",
      "     ------------------------------- ------ 51.2/60.9 kB 525.1 kB/s eta 0:00:01\n",
      "     -------------------------------------- 60.9/60.9 kB 545.1 kB/s eta 0:00:00\n",
      "Downloading numpy-2.3.2-cp311-cp311-win_amd64.whl (13.1 MB)\n",
      "   ---------------------------------------- 0.0/13.1 MB ? eta -:--:--\n",
      "   ---------------------------------------- 0.1/13.1 MB 4.5 MB/s eta 0:00:03\n",
      "   - -------------------------------------- 0.4/13.1 MB 7.6 MB/s eta 0:00:02\n",
      "   -- ------------------------------------- 0.8/13.1 MB 8.4 MB/s eta 0:00:02\n",
      "   --- ------------------------------------ 1.2/13.1 MB 9.6 MB/s eta 0:00:02\n",
      "   ---- ----------------------------------- 1.6/13.1 MB 10.3 MB/s eta 0:00:02\n",
      "   ------ --------------------------------- 2.0/13.1 MB 10.8 MB/s eta 0:00:02\n",
      "   ------- -------------------------------- 2.4/13.1 MB 10.4 MB/s eta 0:00:02\n",
      "   -------- ------------------------------- 2.9/13.1 MB 10.7 MB/s eta 0:00:01\n",
      "   --------- ------------------------------ 3.3/13.1 MB 11.0 MB/s eta 0:00:01\n",
      "   ----------- ---------------------------- 3.7/13.1 MB 10.7 MB/s eta 0:00:01\n",
      "   ------------ --------------------------- 4.1/13.1 MB 10.9 MB/s eta 0:00:01\n",
      "   ------------- -------------------------- 4.5/13.1 MB 11.1 MB/s eta 0:00:01\n",
      "   --------------- ------------------------ 4.9/13.1 MB 11.2 MB/s eta 0:00:01\n",
      "   ---------------- ----------------------- 5.3/13.1 MB 11.0 MB/s eta 0:00:01\n",
      "   ----------------- ---------------------- 5.8/13.1 MB 11.2 MB/s eta 0:00:01\n",
      "   ------------------ --------------------- 6.2/13.1 MB 11.3 MB/s eta 0:00:01\n",
      "   -------------------- ------------------- 6.6/13.1 MB 11.4 MB/s eta 0:00:01\n",
      "   --------------------- ------------------ 7.0/13.1 MB 11.2 MB/s eta 0:00:01\n",
      "   ---------------------- ----------------- 7.4/13.1 MB 11.3 MB/s eta 0:00:01\n",
      "   ----------------------- ---------------- 7.8/13.1 MB 11.4 MB/s eta 0:00:01\n",
      "   ------------------------- -------------- 8.2/13.1 MB 11.2 MB/s eta 0:00:01\n",
      "   -------------------------- ------------- 8.7/13.1 MB 11.3 MB/s eta 0:00:01\n",
      "   --------------------------- ------------ 9.1/13.1 MB 11.4 MB/s eta 0:00:01\n",
      "   ----------------------------- ---------- 9.5/13.1 MB 11.5 MB/s eta 0:00:01\n",
      "   ------------------------------ --------- 9.9/13.1 MB 11.3 MB/s eta 0:00:01\n",
      "   ------------------------------- -------- 10.3/13.1 MB 11.5 MB/s eta 0:00:01\n",
      "   -------------------------------- ------- 10.8/13.1 MB 11.7 MB/s eta 0:00:01\n",
      "   ---------------------------------- ----- 11.2/13.1 MB 11.7 MB/s eta 0:00:01\n",
      "   ----------------------------------- ---- 11.6/13.1 MB 11.7 MB/s eta 0:00:01\n",
      "   ------------------------------------ --- 12.0/13.1 MB 11.7 MB/s eta 0:00:01\n",
      "   ------------------------------------- -- 12.4/13.1 MB 11.7 MB/s eta 0:00:01\n",
      "   ---------------------------------------  12.8/13.1 MB 11.7 MB/s eta 0:00:01\n",
      "   ---------------------------------------  13.1/13.1 MB 11.7 MB/s eta 0:00:01\n",
      "   ---------------------------------------  13.1/13.1 MB 11.7 MB/s eta 0:00:01\n",
      "   ---------------------------------------  13.1/13.1 MB 11.7 MB/s eta 0:00:01\n",
      "   ---------------------------------------  13.1/13.1 MB 11.7 MB/s eta 0:00:01\n",
      "   ---------------------------------------- 13.1/13.1 MB 10.2 MB/s eta 0:00:00\n",
      "Installing collected packages: numpy\n",
      "Successfully installed numpy-2.3.2\n",
      "Note: you may need to restart the kernel to use updated packages.\n"
     ]
    },
    {
     "name": "stderr",
     "output_type": "stream",
     "text": [
      "\n",
      "[notice] A new release of pip is available: 24.0 -> 25.2\n",
      "[notice] To update, run: C:\\Users\\Jet Liu\\AppData\\Local\\Microsoft\\WindowsApps\\PythonSoftwareFoundation.Python.3.11_qbz5n2kfra8p0\\python.exe -m pip install --upgrade pip\n"
     ]
    }
   ],
   "source": [
    "%pip install numpy"
   ]
  },
  {
   "cell_type": "code",
   "execution_count": 2,
   "metadata": {},
   "outputs": [
    {
     "name": "stdout",
     "output_type": "stream",
     "text": [
      "Collecting pandas\n",
      "  Downloading pandas-2.3.1-cp311-cp311-win_amd64.whl.metadata (19 kB)\n",
      "Requirement already satisfied: numpy>=1.23.2 in c:\\users\\jet liu\\appdata\\local\\packages\\pythonsoftwarefoundation.python.3.11_qbz5n2kfra8p0\\localcache\\local-packages\\python311\\site-packages (from pandas) (2.3.2)\n",
      "Requirement already satisfied: python-dateutil>=2.8.2 in c:\\users\\jet liu\\appdata\\local\\packages\\pythonsoftwarefoundation.python.3.11_qbz5n2kfra8p0\\localcache\\local-packages\\python311\\site-packages (from pandas) (2.9.0.post0)\n",
      "Collecting pytz>=2020.1 (from pandas)\n",
      "  Downloading pytz-2025.2-py2.py3-none-any.whl.metadata (22 kB)\n",
      "Collecting tzdata>=2022.7 (from pandas)\n",
      "  Downloading tzdata-2025.2-py2.py3-none-any.whl.metadata (1.4 kB)\n",
      "Requirement already satisfied: six>=1.5 in c:\\users\\jet liu\\appdata\\local\\packages\\pythonsoftwarefoundation.python.3.11_qbz5n2kfra8p0\\localcache\\local-packages\\python311\\site-packages (from python-dateutil>=2.8.2->pandas) (1.17.0)\n",
      "Downloading pandas-2.3.1-cp311-cp311-win_amd64.whl (11.3 MB)\n",
      "   ---------------------------------------- 0.0/11.3 MB ? eta -:--:--\n",
      "   ---------------------------------------- 0.0/11.3 MB 1.9 MB/s eta 0:00:06\n",
      "    --------------------------------------- 0.2/11.3 MB 4.6 MB/s eta 0:00:03\n",
      "   -- ------------------------------------- 0.6/11.3 MB 6.1 MB/s eta 0:00:02\n",
      "   --- ------------------------------------ 1.0/11.3 MB 7.9 MB/s eta 0:00:02\n",
      "   ---- ----------------------------------- 1.4/11.3 MB 8.9 MB/s eta 0:00:02\n",
      "   ------ --------------------------------- 1.8/11.3 MB 9.7 MB/s eta 0:00:01\n",
      "   ------- -------------------------------- 2.2/11.3 MB 9.5 MB/s eta 0:00:01\n",
      "   --------- ------------------------------ 2.6/11.3 MB 9.9 MB/s eta 0:00:01\n",
      "   ---------- ----------------------------- 3.1/11.3 MB 10.2 MB/s eta 0:00:01\n",
      "   ------------ --------------------------- 3.5/11.3 MB 10.6 MB/s eta 0:00:01\n",
      "   ------------- -------------------------- 3.9/11.3 MB 10.3 MB/s eta 0:00:01\n",
      "   --------------- ------------------------ 4.3/11.3 MB 10.6 MB/s eta 0:00:01\n",
      "   ---------------- ----------------------- 4.7/11.3 MB 10.8 MB/s eta 0:00:01\n",
      "   ------------------ --------------------- 5.1/11.3 MB 10.9 MB/s eta 0:00:01\n",
      "   ------------------- -------------------- 5.5/11.3 MB 10.7 MB/s eta 0:00:01\n",
      "   -------------------- ------------------- 5.9/11.3 MB 10.9 MB/s eta 0:00:01\n",
      "   ---------------------- ----------------- 6.4/11.3 MB 11.0 MB/s eta 0:00:01\n",
      "   ----------------------- ---------------- 6.8/11.3 MB 11.1 MB/s eta 0:00:01\n",
      "   ------------------------- -------------- 7.2/11.3 MB 11.0 MB/s eta 0:00:01\n",
      "   -------------------------- ------------- 7.6/11.3 MB 11.1 MB/s eta 0:00:01\n",
      "   ---------------------------- ----------- 8.0/11.3 MB 11.1 MB/s eta 0:00:01\n",
      "   ----------------------------- ---------- 8.4/11.3 MB 11.0 MB/s eta 0:00:01\n",
      "   ------------------------------- -------- 8.8/11.3 MB 11.1 MB/s eta 0:00:01\n",
      "   -------------------------------- ------- 9.3/11.3 MB 11.2 MB/s eta 0:00:01\n",
      "   ---------------------------------- ----- 9.7/11.3 MB 11.2 MB/s eta 0:00:01\n",
      "   ----------------------------------- ---- 10.1/11.3 MB 11.1 MB/s eta 0:00:01\n",
      "   ------------------------------------- -- 10.5/11.3 MB 11.7 MB/s eta 0:00:01\n",
      "   -------------------------------------- - 10.9/11.3 MB 11.7 MB/s eta 0:00:01\n",
      "   ---------------------------------------  11.3/11.3 MB 11.7 MB/s eta 0:00:01\n",
      "   ---------------------------------------  11.3/11.3 MB 11.7 MB/s eta 0:00:01\n",
      "   ---------------------------------------- 11.3/11.3 MB 11.1 MB/s eta 0:00:00\n",
      "Downloading pytz-2025.2-py2.py3-none-any.whl (509 kB)\n",
      "   ---------------------------------------- 0.0/509.2 kB ? eta -:--:--\n",
      "   -------------------------------- ------ 419.8/509.2 kB 12.8 MB/s eta 0:00:01\n",
      "   --------------------------------------- 509.2/509.2 kB 10.6 MB/s eta 0:00:00\n",
      "Downloading tzdata-2025.2-py2.py3-none-any.whl (347 kB)\n",
      "   ---------------------------------------- 0.0/347.8 kB ? eta -:--:--\n",
      "   ------------------------------------- - 337.9/347.8 kB 20.5 MB/s eta 0:00:01\n",
      "   --------------------------------------- 347.8/347.8 kB 10.5 MB/s eta 0:00:00\n",
      "Installing collected packages: pytz, tzdata, pandas\n",
      "Successfully installed pandas-2.3.1 pytz-2025.2 tzdata-2025.2\n"
     ]
    },
    {
     "name": "stderr",
     "output_type": "stream",
     "text": [
      "\n",
      "[notice] A new release of pip is available: 24.0 -> 25.2\n",
      "[notice] To update, run: C:\\Users\\Jet Liu\\AppData\\Local\\Microsoft\\WindowsApps\\PythonSoftwareFoundation.Python.3.11_qbz5n2kfra8p0\\python.exe -m pip install --upgrade pip\n"
     ]
    }
   ],
   "source": [
    "!pip install pandas"
   ]
  },
  {
   "cell_type": "code",
   "execution_count": null,
   "metadata": {},
   "outputs": [],
   "source": []
  }
 ],
 "metadata": {
  "kernelspec": {
   "display_name": "Python 3",
   "language": "python",
   "name": "python3"
  },
  "language_info": {
   "codemirror_mode": {
    "name": "ipython",
    "version": 3
   },
   "file_extension": ".py",
   "mimetype": "text/x-python",
   "name": "python",
   "nbconvert_exporter": "python",
   "pygments_lexer": "ipython3",
   "version": "3.11.9"
  }
 },
 "nbformat": 4,
 "nbformat_minor": 2
}
